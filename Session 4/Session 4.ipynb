{
  "nbformat": 4,
  "nbformat_minor": 0,
  "metadata": {
    "kernelspec": {
      "display_name": "Python 3",
      "language": "python",
      "name": "python3"
    },
    "language_info": {
      "codemirror_mode": {
        "name": "ipython",
        "version": 3
      },
      "file_extension": ".py",
      "mimetype": "text/x-python",
      "name": "python",
      "nbconvert_exporter": "python",
      "pygments_lexer": "ipython3",
      "version": "3.6.9"
    },
    "colab": {
      "name": "ML Zoomcamp Session 4.ipynb",
      "provenance": [],
      "collapsed_sections": [],
      "include_colab_link": true
    }
  },
  "cells": [
    {
      "cell_type": "markdown",
      "metadata": {
        "id": "view-in-github",
        "colab_type": "text"
      },
      "source": [
        "<a href=\"https://colab.research.google.com/github/aniketsharma00411/ML-Zoomcamp/blob/main/Session%204/Session%204.ipynb\" target=\"_parent\"><img src=\"https://colab.research.google.com/assets/colab-badge.svg\" alt=\"Open In Colab\"/></a>"
      ]
    },
    {
      "cell_type": "markdown",
      "metadata": {
        "id": "_B5zTd3B7dsd"
      },
      "source": [
        "## Homework 4\n",
        "\n",
        "https://github.com/alexeygrigorev/mlbookcamp-code/blob/master/course-zoomcamp/04-evaluation/homework.md"
      ]
    },
    {
      "cell_type": "code",
      "metadata": {
        "id": "DwyVCWVW7dsi"
      },
      "source": [
        "import pandas as pd\n",
        "import numpy as np\n",
        "\n",
        "import matplotlib.pyplot as plt\n",
        "import seaborn as sns\n",
        "\n",
        "from sklearn.model_selection import train_test_split\n",
        "from sklearn.metrics import roc_auc_score\n",
        "from sklearn.feature_extraction import DictVectorizer\n",
        "from sklearn.linear_model import LogisticRegression\n",
        "from sklearn.metrics import precision_score\n",
        "from sklearn.metrics import recall_score\n",
        "from sklearn.model_selection import KFold"
      ],
      "execution_count": 1,
      "outputs": []
    },
    {
      "cell_type": "markdown",
      "metadata": {
        "id": "p-0D-IPe7dsj"
      },
      "source": [
        "Data:\n",
        "\n",
        "- https://github.com/gastonstat/CreditScoring\n",
        "- Also available [here](https://raw.githubusercontent.com/alexeygrigorev/mlbookcamp-code/master/chapter-06-trees/CreditScoring.csv)"
      ]
    },
    {
      "cell_type": "code",
      "metadata": {
        "scrolled": true,
        "id": "YeGnMK8V7dsk",
        "colab": {
          "base_uri": "https://localhost:8080/"
        },
        "outputId": "2d6612bf-8019-4508-b6b1-c0db8495ccec"
      },
      "source": [
        "! wget https://raw.githubusercontent.com/alexeygrigorev/mlbookcamp-code/master/chapter-06-trees/CreditScoring.csv"
      ],
      "execution_count": 2,
      "outputs": [
        {
          "output_type": "stream",
          "name": "stdout",
          "text": [
            "--2021-10-01 17:38:28--  https://raw.githubusercontent.com/alexeygrigorev/mlbookcamp-code/master/chapter-06-trees/CreditScoring.csv\n",
            "Resolving raw.githubusercontent.com (raw.githubusercontent.com)... 185.199.111.133, 185.199.110.133, 185.199.109.133, ...\n",
            "Connecting to raw.githubusercontent.com (raw.githubusercontent.com)|185.199.111.133|:443... connected.\n",
            "HTTP request sent, awaiting response... 200 OK\n",
            "Length: 182489 (178K) [text/plain]\n",
            "Saving to: ‘CreditScoring.csv’\n",
            "\n",
            "CreditScoring.csv   100%[===================>] 178.21K  --.-KB/s    in 0.06s   \n",
            "\n",
            "2021-10-01 17:38:28 (3.05 MB/s) - ‘CreditScoring.csv’ saved [182489/182489]\n",
            "\n"
          ]
        }
      ]
    },
    {
      "cell_type": "markdown",
      "metadata": {
        "id": "2X6O5b5_7dsm"
      },
      "source": [
        "## Preparation \n",
        "\n",
        "We'll talk about this dataset in more details in week 6. But for now, use the following code to get started"
      ]
    },
    {
      "cell_type": "code",
      "metadata": {
        "id": "i6i_WraK7dsn"
      },
      "source": [
        "df = pd.read_csv('CreditScoring.csv')\n",
        "df.columns = df.columns.str.lower()"
      ],
      "execution_count": 3,
      "outputs": []
    },
    {
      "cell_type": "markdown",
      "metadata": {
        "id": "mIRNxTX17dsn"
      },
      "source": [
        "Some of the features are encoded as numbers. Use the following code to de-code them:"
      ]
    },
    {
      "cell_type": "code",
      "metadata": {
        "id": "SOr6P0vN7dsn"
      },
      "source": [
        "status_values = {\n",
        "    1: 'ok',\n",
        "    2: 'default',\n",
        "    0: 'unk'\n",
        "}\n",
        "\n",
        "df.status = df.status.map(status_values)\n",
        "\n",
        "\n",
        "home_values = {\n",
        "    1: 'rent',\n",
        "    2: 'owner',\n",
        "    3: 'private',\n",
        "    4: 'ignore',\n",
        "    5: 'parents',\n",
        "    6: 'other',\n",
        "    0: 'unk'\n",
        "}\n",
        "\n",
        "df.home = df.home.map(home_values)\n",
        "\n",
        "marital_values = {\n",
        "    1: 'single',\n",
        "    2: 'married',\n",
        "    3: 'widow',\n",
        "    4: 'separated',\n",
        "    5: 'divorced',\n",
        "    0: 'unk'\n",
        "}\n",
        "\n",
        "df.marital = df.marital.map(marital_values)\n",
        "\n",
        "records_values = {\n",
        "    1: 'no',\n",
        "    2: 'yes',\n",
        "    0: 'unk'\n",
        "}\n",
        "\n",
        "df.records = df.records.map(records_values)\n",
        "\n",
        "job_values = {\n",
        "    1: 'fixed',\n",
        "    2: 'partime',\n",
        "    3: 'freelance',\n",
        "    4: 'others',\n",
        "    0: 'unk'\n",
        "}\n",
        "\n",
        "df.job = df.job.map(job_values)"
      ],
      "execution_count": 4,
      "outputs": []
    },
    {
      "cell_type": "markdown",
      "metadata": {
        "id": "89HntBqY7dsn"
      },
      "source": [
        "Prepare the numerical variables:"
      ]
    },
    {
      "cell_type": "code",
      "metadata": {
        "id": "QXLox33F7dso"
      },
      "source": [
        "for c in ['income', 'assets', 'debt']:\n",
        "    df[c] = df[c].replace(to_replace=99999999, value=0)"
      ],
      "execution_count": 5,
      "outputs": []
    },
    {
      "cell_type": "markdown",
      "metadata": {
        "id": "48I6tcQ-7dsp"
      },
      "source": [
        "Remove clients with unknown default status"
      ]
    },
    {
      "cell_type": "code",
      "metadata": {
        "id": "F88eP0R_7dsp"
      },
      "source": [
        "df = df[df.status != 'unk'].reset_index(drop=True)"
      ],
      "execution_count": 6,
      "outputs": []
    },
    {
      "cell_type": "markdown",
      "metadata": {
        "id": "8JWktJPr7dsq"
      },
      "source": [
        "Create the target variable"
      ]
    },
    {
      "cell_type": "code",
      "metadata": {
        "id": "azieYO_N7dsq"
      },
      "source": [
        "df['default'] = (df.status == 'default').astype(int)\n",
        "del df['status']"
      ],
      "execution_count": 7,
      "outputs": []
    },
    {
      "cell_type": "markdown",
      "metadata": {
        "id": "y3_H4hIG7dsr"
      },
      "source": [
        "## Your code"
      ]
    },
    {
      "cell_type": "markdown",
      "metadata": {
        "id": "SC4BH7S27dss"
      },
      "source": [
        "What are the categorical variables? What are the numerical?"
      ]
    },
    {
      "cell_type": "code",
      "metadata": {
        "colab": {
          "base_uri": "https://localhost:8080/"
        },
        "id": "Qx5ADLjPMn-T",
        "outputId": "4afce3e1-5e8d-417f-c336-121e116f4452"
      },
      "source": [
        "df.info()"
      ],
      "execution_count": 8,
      "outputs": [
        {
          "output_type": "stream",
          "name": "stdout",
          "text": [
            "<class 'pandas.core.frame.DataFrame'>\n",
            "RangeIndex: 4454 entries, 0 to 4453\n",
            "Data columns (total 14 columns):\n",
            " #   Column     Non-Null Count  Dtype \n",
            "---  ------     --------------  ----- \n",
            " 0   seniority  4454 non-null   int64 \n",
            " 1   home       4454 non-null   object\n",
            " 2   time       4454 non-null   int64 \n",
            " 3   age        4454 non-null   int64 \n",
            " 4   marital    4454 non-null   object\n",
            " 5   records    4454 non-null   object\n",
            " 6   job        4454 non-null   object\n",
            " 7   expenses   4454 non-null   int64 \n",
            " 8   income     4454 non-null   int64 \n",
            " 9   assets     4454 non-null   int64 \n",
            " 10  debt       4454 non-null   int64 \n",
            " 11  amount     4454 non-null   int64 \n",
            " 12  price      4454 non-null   int64 \n",
            " 13  default    4454 non-null   int64 \n",
            "dtypes: int64(10), object(4)\n",
            "memory usage: 487.3+ KB\n"
          ]
        }
      ]
    },
    {
      "cell_type": "code",
      "metadata": {
        "id": "nA1vN6WDMp4J"
      },
      "source": [
        "categorical = ['home', 'marital', 'records', 'job']\n",
        "numerical = ['seniority', 'time', 'age', 'expenses', 'income', 'assets', 'debt', 'amount', 'price']"
      ],
      "execution_count": 9,
      "outputs": []
    },
    {
      "cell_type": "markdown",
      "metadata": {
        "id": "1KlDnvF27dss"
      },
      "source": [
        "Split the data into 3 parts: train/validation/test with 60%/20%/20% distribution. Use `train_test_split` funciton for that with `random_state=1`"
      ]
    },
    {
      "cell_type": "code",
      "metadata": {
        "id": "z0wHWuAS7dss"
      },
      "source": [
        "df_full_train, df_test = train_test_split(df, test_size=0.2, random_state=1)\n",
        "df_train, df_val = train_test_split(df_full_train, test_size=0.25, random_state=1)"
      ],
      "execution_count": 10,
      "outputs": []
    },
    {
      "cell_type": "markdown",
      "metadata": {
        "id": "3DDU6Ny77dss"
      },
      "source": [
        "## Question 1\n",
        "\n",
        "ROC AUC could also be used to evaluate feature importance of numerical variables. \n",
        "\n",
        "Let's do that\n",
        "\n",
        "* For each numerical variable, use it as score and compute AUC with the \"default\" variable\n",
        "* Use the training dataset for that\n",
        "\n",
        "\n",
        "If your AUC is < 0.5, invert this variable by putting \"-\" in front\n",
        "\n",
        "(e.g. `-df_train['expenses']`)\n",
        "\n",
        "AUC can go below 0.5 if the variable is negatively correlated with the target varialble. You can change the direction of the correlation by negating this variable - then negative correlation becomes positive."
      ]
    },
    {
      "cell_type": "code",
      "metadata": {
        "colab": {
          "base_uri": "https://localhost:8080/"
        },
        "id": "vxKBk5e4O8LF",
        "outputId": "aca57304-fc7a-47d4-e02c-5ca98674feb4"
      },
      "source": [
        "auc_scores = {}\n",
        "for feature in numerical:\n",
        "    score = roc_auc_score(df_train.default, df_train[feature])\n",
        "    if score < 0.5:\n",
        "        score = roc_auc_score(df_train.default, -df_train[feature])\n",
        "    auc_scores[feature] = score\n",
        "\n",
        "auc_scores"
      ],
      "execution_count": 11,
      "outputs": [
        {
          "output_type": "execute_result",
          "data": {
            "text/plain": [
              "{'age': 0.5732933272499939,\n",
              " 'amount': 0.5910773431595518,\n",
              " 'assets': 0.6486042567122802,\n",
              " 'debt': 0.5047829675783548,\n",
              " 'expenses': 0.5009184217217011,\n",
              " 'income': 0.682006666132633,\n",
              " 'price': 0.5043329862114843,\n",
              " 'seniority': 0.7093778624491943,\n",
              " 'time': 0.5608662489595051}"
            ]
          },
          "metadata": {},
          "execution_count": 11
        }
      ]
    },
    {
      "cell_type": "markdown",
      "metadata": {
        "id": "mRJYha0T7dss"
      },
      "source": [
        "Which numerical variable (among the following 4) has the highest AUC?\n",
        "\n",
        "- seniority\n",
        "- time\n",
        "- income\n",
        "- debt\n",
        "\n",
        "`seniority` has the highest AUC."
      ]
    },
    {
      "cell_type": "markdown",
      "metadata": {
        "id": "RssrMccv7dss"
      },
      "source": [
        "## Training the model\n",
        "\n",
        "From now on, use these columns only:\n",
        "\n",
        "```\n",
        "['seniority', 'income', 'assets', 'records', 'job', 'home']\n",
        "```\n",
        "\n",
        "Apply one-hot-encoding using `DictVectorizer` and train the logistic regression with these parameters:\n",
        "\n",
        "```\n",
        "LogisticRegression(solver='liblinear', C=1.0, max_iter=1000)\n",
        "```"
      ]
    },
    {
      "cell_type": "code",
      "metadata": {
        "id": "l4-sPouW7dst"
      },
      "source": [
        "X_full_train = df_full_train[['seniority', 'income', 'assets', 'records', 'job', 'home']]\n",
        "X_train = df_train[['seniority', 'income', 'assets', 'records', 'job', 'home']]\n",
        "X_val = df_val[['seniority', 'income', 'assets', 'records', 'job', 'home']]\n",
        "X_test = df_test[['seniority', 'income', 'assets', 'records', 'job', 'home']]\n",
        "\n",
        "y_full_train = df_full_train['default']\n",
        "y_train = df_train['default']\n",
        "y_val = df_val['default']\n",
        "y_test = df_test['default']"
      ],
      "execution_count": 12,
      "outputs": []
    },
    {
      "cell_type": "code",
      "metadata": {
        "id": "lEe8MwBDQQ32"
      },
      "source": [
        "X_train_dict = X_train.to_dict(orient='records')\n",
        "\n",
        "dv = DictVectorizer(sparse=False)\n",
        "\n",
        "X_train_one_hot = dv.fit_transform(X_train_dict)"
      ],
      "execution_count": 13,
      "outputs": []
    },
    {
      "cell_type": "code",
      "metadata": {
        "colab": {
          "base_uri": "https://localhost:8080/"
        },
        "id": "ATj3_AQfQ7XX",
        "outputId": "56273692-1e0b-49a7-bcb6-b58058e2a9db"
      },
      "source": [
        "model = LogisticRegression(solver='liblinear', C=1.0, max_iter=1000)\n",
        "\n",
        "model.fit(X_train_one_hot, y_train)"
      ],
      "execution_count": 14,
      "outputs": [
        {
          "output_type": "execute_result",
          "data": {
            "text/plain": [
              "LogisticRegression(C=1.0, class_weight=None, dual=False, fit_intercept=True,\n",
              "                   intercept_scaling=1, l1_ratio=None, max_iter=1000,\n",
              "                   multi_class='auto', n_jobs=None, penalty='l2',\n",
              "                   random_state=None, solver='liblinear', tol=0.0001, verbose=0,\n",
              "                   warm_start=False)"
            ]
          },
          "metadata": {},
          "execution_count": 14
        }
      ]
    },
    {
      "cell_type": "markdown",
      "metadata": {
        "id": "mz6SYMG-7dst"
      },
      "source": [
        "## Question 2\n",
        "\n",
        "What's the AUC of this model on the validation dataset? (round to 3 digits)\n",
        "\n",
        "- 0.512\n",
        "- 0.612\n",
        "- 0.712\n",
        "- 0.812"
      ]
    },
    {
      "cell_type": "code",
      "metadata": {
        "colab": {
          "base_uri": "https://localhost:8080/"
        },
        "id": "rcrw3KJpRKBd",
        "outputId": "8bf08c20-c5bb-406a-82c1-3d77f8fbba04"
      },
      "source": [
        "round(roc_auc_score(y_val, model.predict_proba(dv.transform(X_val.to_dict(orient='records')))[:, 1]), 3)"
      ],
      "execution_count": 15,
      "outputs": [
        {
          "output_type": "execute_result",
          "data": {
            "text/plain": [
              "0.812"
            ]
          },
          "metadata": {},
          "execution_count": 15
        }
      ]
    },
    {
      "cell_type": "markdown",
      "metadata": {
        "id": "Epu4CQGygGp_"
      },
      "source": [
        "Model AUC on validation dataset is **0.812**."
      ]
    },
    {
      "cell_type": "markdown",
      "metadata": {
        "id": "kmWc57BM7dst"
      },
      "source": [
        "## Question 3\n",
        "\n",
        "Now let's compute precision and recall for our model.\n",
        "\n",
        "* Evaluate the model on all thresholds from 0.0 to 1.0 with step 0.01\n",
        "* For each threshold, compute precision and recall\n",
        "* Plot them"
      ]
    },
    {
      "cell_type": "code",
      "metadata": {
        "id": "5kCtesxQ7dst",
        "colab": {
          "base_uri": "https://localhost:8080/"
        },
        "outputId": "6bade71d-3af9-4e42-b23e-299b6635ca25"
      },
      "source": [
        "thresholds = np.arange(0, 1, step=0.01)\n",
        "\n",
        "precision = []\n",
        "recall = []\n",
        "for t in thresholds:\n",
        "    precision.append(precision_score(y_val, (model.predict_proba(dv.transform(X_val.to_dict(orient='records')))[:, 1] >= t)))\n",
        "    recall.append(recall_score(y_val, (model.predict_proba(dv.transform(X_val.to_dict(orient='records')))[:, 1] >= t)))"
      ],
      "execution_count": 16,
      "outputs": [
        {
          "output_type": "stream",
          "name": "stderr",
          "text": [
            "/usr/local/lib/python3.7/dist-packages/sklearn/metrics/_classification.py:1272: UndefinedMetricWarning: Precision is ill-defined and being set to 0.0 due to no predicted samples. Use `zero_division` parameter to control this behavior.\n",
            "  _warn_prf(average, modifier, msg_start, len(result))\n",
            "/usr/local/lib/python3.7/dist-packages/sklearn/metrics/_classification.py:1272: UndefinedMetricWarning: Precision is ill-defined and being set to 0.0 due to no predicted samples. Use `zero_division` parameter to control this behavior.\n",
            "  _warn_prf(average, modifier, msg_start, len(result))\n",
            "/usr/local/lib/python3.7/dist-packages/sklearn/metrics/_classification.py:1272: UndefinedMetricWarning: Precision is ill-defined and being set to 0.0 due to no predicted samples. Use `zero_division` parameter to control this behavior.\n",
            "  _warn_prf(average, modifier, msg_start, len(result))\n",
            "/usr/local/lib/python3.7/dist-packages/sklearn/metrics/_classification.py:1272: UndefinedMetricWarning: Precision is ill-defined and being set to 0.0 due to no predicted samples. Use `zero_division` parameter to control this behavior.\n",
            "  _warn_prf(average, modifier, msg_start, len(result))\n",
            "/usr/local/lib/python3.7/dist-packages/sklearn/metrics/_classification.py:1272: UndefinedMetricWarning: Precision is ill-defined and being set to 0.0 due to no predicted samples. Use `zero_division` parameter to control this behavior.\n",
            "  _warn_prf(average, modifier, msg_start, len(result))\n",
            "/usr/local/lib/python3.7/dist-packages/sklearn/metrics/_classification.py:1272: UndefinedMetricWarning: Precision is ill-defined and being set to 0.0 due to no predicted samples. Use `zero_division` parameter to control this behavior.\n",
            "  _warn_prf(average, modifier, msg_start, len(result))\n"
          ]
        }
      ]
    },
    {
      "cell_type": "code",
      "metadata": {
        "colab": {
          "base_uri": "https://localhost:8080/",
          "height": 265
        },
        "id": "FUn7EILoTIXx",
        "outputId": "a919ece6-c5c2-4bf3-b63a-bfa881a5b690"
      },
      "source": [
        "plt.plot(thresholds, precision, label='precision')\n",
        "plt.plot(thresholds, recall, label='recall')\n",
        "plt.legend()\n",
        "\n",
        "plt.show()"
      ],
      "execution_count": 17,
      "outputs": [
        {
          "output_type": "display_data",
          "data": {
            "image/png": "[encoded data removed]",
            "text/plain": [
              "<Figure size 432x288 with 1 Axes>"
            ]
          },
          "metadata": {
            "needs_background": "light"
          }
        }
      ]
    },
    {
      "cell_type": "markdown",
      "metadata": {
        "id": "6zzPFUDw7dst"
      },
      "source": [
        "At which threshold precision and recall curves intersect?\n",
        "\n",
        "* 0.2\n",
        "* 0.4\n",
        "* 0.6\n",
        "* 0.8\n",
        "\n",
        "Precision and recall curves intersect at **0.4** threshold."
      ]
    },
    {
      "cell_type": "markdown",
      "metadata": {
        "id": "G-EwPXbd7dst"
      },
      "source": [
        "## Question 4\n",
        "\n",
        "Precision and recall are conflicting - when one grows, the other goes down. That's why they are often combined into the F1 score - a metrics that takes into account both\n",
        "\n",
        "This is the formula for computing F1:\n",
        "\n",
        "$$F_1 = 2 \\cdot \\cfrac{P \\cdot R}{P + R}$$\n",
        "\n",
        "Where $P$ is precision and $R$ is recall.\n",
        "\n",
        "Let's compute F1 for all thresholds from 0.0 to 1.0 with increment 0.01"
      ]
    },
    {
      "cell_type": "code",
      "metadata": {
        "id": "B3Rw0wiN7dsu",
        "colab": {
          "base_uri": "https://localhost:8080/"
        },
        "outputId": "201f8e67-9fab-46fe-d2cb-8ef4ffd55c43"
      },
      "source": [
        "P = np.array(precision)\n",
        "R = np.array(recall)\n",
        "\n",
        "f1 = 2*(P*R)/(P+R)"
      ],
      "execution_count": 18,
      "outputs": [
        {
          "output_type": "stream",
          "name": "stderr",
          "text": [
            "/usr/local/lib/python3.7/dist-packages/ipykernel_launcher.py:4: RuntimeWarning: invalid value encountered in true_divide\n",
            "  after removing the cwd from sys.path.\n"
          ]
        }
      ]
    },
    {
      "cell_type": "code",
      "metadata": {
        "colab": {
          "base_uri": "https://localhost:8080/"
        },
        "id": "W7JpypxnUWhD",
        "outputId": "871c6521-f252-4ac3-9fae-1f53cd96a8ad"
      },
      "source": [
        "thresholds[list(f1).index(max(f1))]"
      ],
      "execution_count": 19,
      "outputs": [
        {
          "output_type": "execute_result",
          "data": {
            "text/plain": [
              "0.3"
            ]
          },
          "metadata": {},
          "execution_count": 19
        }
      ]
    },
    {
      "cell_type": "markdown",
      "metadata": {
        "id": "yhdrug7G7dsu"
      },
      "source": [
        "At which threshold F1 is maximal?\n",
        "\n",
        "- 0.1\n",
        "- 0.3\n",
        "- 0.5\n",
        "- 0.7\n",
        "\n",
        "F1 is maximal at **0.3** threshold."
      ]
    },
    {
      "cell_type": "markdown",
      "metadata": {
        "id": "qESdNF2q7dsu"
      },
      "source": [
        "## Question 5\n",
        "\n",
        "\n",
        "Use the `KFold` class from Scikit-Learn to evaluate our model on 5 different folds:\n",
        "\n",
        "```\n",
        "KFold(n_splits=5, shuffle=True, random_state=1)\n",
        "```\n",
        "\n",
        "* Iterate over different folds of `df_full_train`\n",
        "* Split the data into train and validation\n",
        "* Train the model on train with these parameters: `LogisticRegression(solver='liblinear', C=1.0, max_iter=1000)`\n",
        "* Use AUC to evaluate the model on validation\n"
      ]
    },
    {
      "cell_type": "code",
      "metadata": {
        "id": "gKVjM2NH7dsu",
        "colab": {
          "base_uri": "https://localhost:8080/"
        },
        "outputId": "bf81b2ba-de0c-48f2-fe53-c1437a24fa28"
      },
      "source": [
        "kf = KFold(n_splits=5, shuffle=True, random_state=1)\n",
        "\n",
        "scores = []\n",
        "for train_index, val_index in kf.split(X_full_train):\n",
        "    X_train = X_full_train.iloc[train_index]\n",
        "    y_train = y_full_train.iloc[train_index]\n",
        "    X_val = X_full_train.iloc[val_index]\n",
        "    y_val = y_full_train.iloc[val_index]\n",
        "\n",
        "    X_train_dict = X_train.to_dict(orient='records')\n",
        "\n",
        "    dv = DictVectorizer(sparse=False)\n",
        "\n",
        "    X_train_one_hot = dv.fit_transform(X_train_dict)\n",
        "    \n",
        "    model = LogisticRegression(solver='liblinear', C=1.0, max_iter=1000)\n",
        "\n",
        "    model.fit(X_train_one_hot, y_train)\n",
        "\n",
        "    score = roc_auc_score(y_val, model.predict_proba(dv.transform(X_val.to_dict(orient='records')))[:, 1])\n",
        "    scores.append(score)\n",
        "\n",
        "scores"
      ],
      "execution_count": 20,
      "outputs": [
        {
          "output_type": "execute_result",
          "data": {
            "text/plain": [
              "[0.8256212256212256,\n",
              " 0.8254077031563474,\n",
              " 0.789298525308888,\n",
              " 0.8153421373265731,\n",
              " 0.8054696294614563]"
            ]
          },
          "metadata": {},
          "execution_count": 20
        }
      ]
    },
    {
      "cell_type": "code",
      "metadata": {
        "colab": {
          "base_uri": "https://localhost:8080/"
        },
        "id": "HhEyE1gJZIHD",
        "outputId": "68192c06-c71c-49da-8de0-5de19818252f"
      },
      "source": [
        "np.std(scores)"
      ],
      "execution_count": 21,
      "outputs": [
        {
          "output_type": "execute_result",
          "data": {
            "text/plain": [
              "0.013669069470482898"
            ]
          },
          "metadata": {},
          "execution_count": 21
        }
      ]
    },
    {
      "cell_type": "markdown",
      "metadata": {
        "id": "kc29ymr37dsu"
      },
      "source": [
        "How large is standard deviation of the scores across different folds?\n",
        "\n",
        "- 0.001\n",
        "- 0.014\n",
        "- 0.09\n",
        "- 0.14\n",
        "\n",
        "Standard deviation of the scores across different folds is **0.014**."
      ]
    },
    {
      "cell_type": "markdown",
      "metadata": {
        "id": "PkdTqfXs7dsv"
      },
      "source": [
        "## Question 6\n",
        "\n",
        "Now let's use 5-Fold cross-validation to find the best parameter C\n",
        "\n",
        "* Iterate over the following C values: `[0.01, 0.1, 1, 10]`\n",
        "* Use these parametes for the model: `LogisticRegression(solver='liblinear', C=C, max_iter=1000)`\n",
        "* Compute the mean score as well as the std"
      ]
    },
    {
      "cell_type": "code",
      "metadata": {
        "id": "-GwwWgBu7dsv",
        "colab": {
          "base_uri": "https://localhost:8080/"
        },
        "outputId": "34517744-21d3-48b2-b120-ac857d5dd30f"
      },
      "source": [
        "mean_scores = []\n",
        "std_scores = []\n",
        "for C in [0.01, 0.1, 1, 10]:\n",
        "    kf = KFold(n_splits=5, shuffle=True, random_state=1)\n",
        "\n",
        "    scores = []\n",
        "    for train_index, val_index in kf.split(X_full_train):\n",
        "        X_train = X_full_train.iloc[train_index]\n",
        "        y_train = y_full_train.iloc[train_index]\n",
        "        X_val = X_full_train.iloc[val_index]\n",
        "        y_val = y_full_train.iloc[val_index]\n",
        "\n",
        "        X_train_dict = X_train.to_dict(orient='records')\n",
        "\n",
        "        dv = DictVectorizer(sparse=False)\n",
        "\n",
        "        X_train_one_hot = dv.fit_transform(X_train_dict)\n",
        "        \n",
        "        model = LogisticRegression(solver='liblinear', C=C, max_iter=1000)\n",
        "\n",
        "        model.fit(X_train_one_hot, y_train)\n",
        "\n",
        "        score = roc_auc_score(y_val, model.predict_proba(dv.transform(X_val.to_dict(orient='records')))[:, 1])\n",
        "        scores.append(score)\n",
        "        \n",
        "    mean_scores.append(np.mean(scores))\n",
        "    std_scores.append(np.std(scores))\n",
        "\n",
        "mean_scores, std_scores"
      ],
      "execution_count": 22,
      "outputs": [
        {
          "output_type": "execute_result",
          "data": {
            "text/plain": [
              "([0.8076876665463588,\n",
              "  0.8129017360952779,\n",
              "  0.812227844174898,\n",
              "  0.8141433397756099],\n",
              " [0.011832148394108436,\n",
              "  0.013740829347711075,\n",
              "  0.013669069470482898,\n",
              "  0.014614166612648758])"
            ]
          },
          "metadata": {},
          "execution_count": 22
        }
      ]
    },
    {
      "cell_type": "markdown",
      "metadata": {
        "id": "fCgmpNU_7dsv"
      },
      "source": [
        "Which C leads to the best mean score?\n",
        "\n",
        "- 0.01\n",
        "- 0.1\n",
        "- 1\n",
        "- 10\n",
        "\n",
        "If you have ties, select the score with the lowest std. If you still have ties, select the smallest C\n",
        "\n",
        "**C=10** leads to the best mean score."
      ]
    }
  ]
}