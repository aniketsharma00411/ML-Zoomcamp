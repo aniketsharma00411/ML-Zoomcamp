{
  "nbformat": 4,
  "nbformat_minor": 0,
  "metadata": {
    "colab": {
      "name": "ML Zoomcamp Session 2.ipynb",
      "provenance": [],
      "authorship_tag": "ABX9TyM2F+YAQdysxasMfrTs2UN5",
      "include_colab_link": true
    },
    "kernelspec": {
      "name": "python3",
      "display_name": "Python 3"
    },
    "language_info": {
      "name": "python"
    }
  },
  "cells": [
    {
      "cell_type": "markdown",
      "metadata": {
        "id": "view-in-github",
        "colab_type": "text"
      },
      "source": [
        "<a href=\"https://colab.research.google.com/github/aniketsharma00411/ML-Zoomcamp/blob/main/Session%202/Session%202.ipynb\" target=\"_parent\"><img src=\"https://colab.research.google.com/assets/colab-badge.svg\" alt=\"Open In Colab\"/></a>"
      ]
    },
    {
      "cell_type": "markdown",
      "metadata": {
        "id": "PUVv4ex-8fkG"
      },
      "source": [
        "## Session #2 Homework\n",
        "\n",
        "https://github.com/alexeygrigorev/mlbookcamp-code/blob/master/course-zoomcamp/02-regression/homework.md"
      ]
    },
    {
      "cell_type": "markdown",
      "metadata": {
        "id": "1bXwJUr98tH6"
      },
      "source": [
        "### Initialization"
      ]
    },
    {
      "cell_type": "code",
      "metadata": {
        "id": "mHg-J59Q8WpH"
      },
      "source": [
        "import numpy as np\n",
        "import pandas as pd\n",
        "\n",
        "import seaborn as sns"
      ],
      "execution_count": 1,
      "outputs": []
    },
    {
      "cell_type": "markdown",
      "metadata": {
        "id": "LjYYQJ0L83Zp"
      },
      "source": [
        "### Dataset\n",
        "\n",
        "In this homework, we will use the New York City Airbnb Open Data. You can take it from\n",
        "[Kaggle](https://www.kaggle.com/dgomonov/new-york-city-airbnb-open-data?select=AB_NYC_2019.csv)\n",
        "or download from [here](https://raw.githubusercontent.com/alexeygrigorev/datasets/master/AB_NYC_2019.csv)\n",
        "if you don't want to sign up to Kaggle.\n",
        "\n",
        "The goal of this homework is to create a regression model for prediction apartment prices (column `'price'`)."
      ]
    },
    {
      "cell_type": "code",
      "metadata": {
        "colab": {
          "base_uri": "https://localhost:8080/"
        },
        "id": "MYq1cD4N82vf",
        "outputId": "fc4942b9-b080-400d-9728-5956c210dc72"
      },
      "source": [
        "! wget https://raw.githubusercontent.com/alexeygrigorev/datasets/master/AB_NYC_2019.csv"
      ],
      "execution_count": 2,
      "outputs": [
        {
          "output_type": "stream",
          "name": "stdout",
          "text": [
            "--2021-09-17 09:06:35--  https://raw.githubusercontent.com/alexeygrigorev/datasets/master/AB_NYC_2019.csv\n",
            "Resolving raw.githubusercontent.com (raw.githubusercontent.com)... 185.199.108.133, 185.199.109.133, 185.199.110.133, ...\n",
            "Connecting to raw.githubusercontent.com (raw.githubusercontent.com)|185.199.108.133|:443... connected.\n",
            "HTTP request sent, awaiting response... 200 OK\n",
            "Length: 7077973 (6.8M) [text/plain]\n",
            "Saving to: ‘AB_NYC_2019.csv’\n",
            "\n",
            "AB_NYC_2019.csv     100%[===================>]   6.75M  --.-KB/s    in 0.05s   \n",
            "\n",
            "2021-09-17 09:06:35 (139 MB/s) - ‘AB_NYC_2019.csv’ saved [7077973/7077973]\n",
            "\n"
          ]
        }
      ]
    },
    {
      "cell_type": "markdown",
      "metadata": {
        "id": "dQ8rmUpT9Bs5"
      },
      "source": [
        "### EDA\n",
        "\n",
        "* Load the data.\n",
        "* Look at the `price` variable. Does it have a long tail?"
      ]
    },
    {
      "cell_type": "code",
      "metadata": {
        "colab": {
          "base_uri": "https://localhost:8080/",
          "height": 417
        },
        "id": "Y_j3ia8F8fQm",
        "outputId": "13e3cf49-c2c1-460e-cf23-d8ee6a26a929"
      },
      "source": [
        "data = pd.read_csv('AB_NYC_2019.csv')\n",
        "data.head()"
      ],
      "execution_count": 3,
      "outputs": [
        {
          "output_type": "execute_result",
          "data": {
            "text/html": [
              "<div>\n",
              "<style scoped>\n",
              "    .dataframe tbody tr th:only-of-type {\n",
              "        vertical-align: middle;\n",
              "    }\n",
              "\n",
              "    .dataframe tbody tr th {\n",
              "        vertical-align: top;\n",
              "    }\n",
              "\n",
              "    .dataframe thead th {\n",
              "        text-align: right;\n",
              "    }\n",
              "</style>\n",
              "<table border=\"1\" class=\"dataframe\">\n",
              "  <thead>\n",
              "    <tr style=\"text-align: right;\">\n",
              "      <th></th>\n",
              "      <th>id</th>\n",
              "      <th>name</th>\n",
              "      <th>host_id</th>\n",
              "      <th>host_name</th>\n",
              "      <th>neighbourhood_group</th>\n",
              "      <th>neighbourhood</th>\n",
              "      <th>latitude</th>\n",
              "      <th>longitude</th>\n",
              "      <th>room_type</th>\n",
              "      <th>price</th>\n",
              "      <th>minimum_nights</th>\n",
              "      <th>number_of_reviews</th>\n",
              "      <th>last_review</th>\n",
              "      <th>reviews_per_month</th>\n",
              "      <th>calculated_host_listings_count</th>\n",
              "      <th>availability_365</th>\n",
              "    </tr>\n",
              "  </thead>\n",
              "  <tbody>\n",
              "    <tr>\n",
              "      <th>0</th>\n",
              "      <td>2539</td>\n",
              "      <td>Clean &amp; quiet apt home by the park</td>\n",
              "      <td>2787</td>\n",
              "      <td>John</td>\n",
              "      <td>Brooklyn</td>\n",
              "      <td>Kensington</td>\n",
              "      <td>40.64749</td>\n",
              "      <td>-73.97237</td>\n",
              "      <td>Private room</td>\n",
              "      <td>149</td>\n",
              "      <td>1</td>\n",
              "      <td>9</td>\n",
              "      <td>2018-10-19</td>\n",
              "      <td>0.21</td>\n",
              "      <td>6</td>\n",
              "      <td>365</td>\n",
              "    </tr>\n",
              "    <tr>\n",
              "      <th>1</th>\n",
              "      <td>2595</td>\n",
              "      <td>Skylit Midtown Castle</td>\n",
              "      <td>2845</td>\n",
              "      <td>Jennifer</td>\n",
              "      <td>Manhattan</td>\n",
              "      <td>Midtown</td>\n",
              "      <td>40.75362</td>\n",
              "      <td>-73.98377</td>\n",
              "      <td>Entire home/apt</td>\n",
              "      <td>225</td>\n",
              "      <td>1</td>\n",
              "      <td>45</td>\n",
              "      <td>2019-05-21</td>\n",
              "      <td>0.38</td>\n",
              "      <td>2</td>\n",
              "      <td>355</td>\n",
              "    </tr>\n",
              "    <tr>\n",
              "      <th>2</th>\n",
              "      <td>3647</td>\n",
              "      <td>THE VILLAGE OF HARLEM....NEW YORK !</td>\n",
              "      <td>4632</td>\n",
              "      <td>Elisabeth</td>\n",
              "      <td>Manhattan</td>\n",
              "      <td>Harlem</td>\n",
              "      <td>40.80902</td>\n",
              "      <td>-73.94190</td>\n",
              "      <td>Private room</td>\n",
              "      <td>150</td>\n",
              "      <td>3</td>\n",
              "      <td>0</td>\n",
              "      <td>NaN</td>\n",
              "      <td>NaN</td>\n",
              "      <td>1</td>\n",
              "      <td>365</td>\n",
              "    </tr>\n",
              "    <tr>\n",
              "      <th>3</th>\n",
              "      <td>3831</td>\n",
              "      <td>Cozy Entire Floor of Brownstone</td>\n",
              "      <td>4869</td>\n",
              "      <td>LisaRoxanne</td>\n",
              "      <td>Brooklyn</td>\n",
              "      <td>Clinton Hill</td>\n",
              "      <td>40.68514</td>\n",
              "      <td>-73.95976</td>\n",
              "      <td>Entire home/apt</td>\n",
              "      <td>89</td>\n",
              "      <td>1</td>\n",
              "      <td>270</td>\n",
              "      <td>2019-07-05</td>\n",
              "      <td>4.64</td>\n",
              "      <td>1</td>\n",
              "      <td>194</td>\n",
              "    </tr>\n",
              "    <tr>\n",
              "      <th>4</th>\n",
              "      <td>5022</td>\n",
              "      <td>Entire Apt: Spacious Studio/Loft by central park</td>\n",
              "      <td>7192</td>\n",
              "      <td>Laura</td>\n",
              "      <td>Manhattan</td>\n",
              "      <td>East Harlem</td>\n",
              "      <td>40.79851</td>\n",
              "      <td>-73.94399</td>\n",
              "      <td>Entire home/apt</td>\n",
              "      <td>80</td>\n",
              "      <td>10</td>\n",
              "      <td>9</td>\n",
              "      <td>2018-11-19</td>\n",
              "      <td>0.10</td>\n",
              "      <td>1</td>\n",
              "      <td>0</td>\n",
              "    </tr>\n",
              "  </tbody>\n",
              "</table>\n",
              "</div>"
            ],
            "text/plain": [
              "     id  ... availability_365\n",
              "0  2539  ...              365\n",
              "1  2595  ...              355\n",
              "2  3647  ...              365\n",
              "3  3831  ...              194\n",
              "4  5022  ...                0\n",
              "\n",
              "[5 rows x 16 columns]"
            ]
          },
          "metadata": {},
          "execution_count": 3
        }
      ]
    },
    {
      "cell_type": "code",
      "metadata": {
        "colab": {
          "base_uri": "https://localhost:8080/",
          "height": 296
        },
        "id": "EnuCubKj9BFe",
        "outputId": "644bb21b-ddc3-4d48-fac2-197cfba04054"
      },
      "source": [
        "sns.histplot(data.price, bins=50)"
      ],
      "execution_count": 4,
      "outputs": [
        {
          "output_type": "execute_result",
          "data": {
            "text/plain": [
              "<matplotlib.axes._subplots.AxesSubplot at 0x7f2365a0e8d0>"
            ]
          },
          "metadata": {},
          "execution_count": 4
        },
        {
          "output_type": "display_data",
          "data": {
            "image/png": "[encoded data removed]",
            "text/plain": [
              "<Figure size 432x288 with 1 Axes>"
            ]
          },
          "metadata": {
            "needs_background": "light"
          }
        }
      ]
    },
    {
      "cell_type": "markdown",
      "metadata": {
        "id": "97xbOQhd9HV3"
      },
      "source": [
        "The `price` variable does have a long tail."
      ]
    },
    {
      "cell_type": "markdown",
      "metadata": {
        "id": "PXxgVECo9MS7"
      },
      "source": [
        "### Features\n",
        "\n",
        "For the rest of the homework, you'll need to use only these columns:\n",
        "\n",
        "* `'latitude'`,\n",
        "* `'longitude'`,\n",
        "* `'price'`,\n",
        "* `'minimum_nights'`,\n",
        "* `'number_of_reviews'`,\n",
        "* `'reviews_per_month'`,\n",
        "* `'calculated_host_listings_count'`,\n",
        "* `'availability_365'`\n",
        "\n",
        "Select only them."
      ]
    },
    {
      "cell_type": "code",
      "metadata": {
        "id": "7S1LUr-i9Kds"
      },
      "source": [
        "features = [\n",
        "    'latitude',\n",
        "    'longitude',\n",
        "    'price',\n",
        "    'minimum_nights',\n",
        "    'number_of_reviews',\n",
        "    'reviews_per_month',\n",
        "    'calculated_host_listings_count',\n",
        "    'availability_365'\n",
        "]"
      ],
      "execution_count": 5,
      "outputs": []
    },
    {
      "cell_type": "code",
      "metadata": {
        "id": "mlcZn8Rt9Pgi"
      },
      "source": [
        "data = data[features]"
      ],
      "execution_count": 6,
      "outputs": []
    },
    {
      "cell_type": "markdown",
      "metadata": {
        "id": "5gy-zOnG9WdW"
      },
      "source": [
        "### Question 1\n",
        "\n",
        "Find a feature with missing values. How many missing values does it have?"
      ]
    },
    {
      "cell_type": "code",
      "metadata": {
        "colab": {
          "base_uri": "https://localhost:8080/"
        },
        "id": "-PSKWvs69Vrr",
        "outputId": "2f90f8ab-d0b5-445e-8f92-d1c9928f6710"
      },
      "source": [
        "data.isnull().sum()"
      ],
      "execution_count": 7,
      "outputs": [
        {
          "output_type": "execute_result",
          "data": {
            "text/plain": [
              "latitude                              0\n",
              "longitude                             0\n",
              "price                                 0\n",
              "minimum_nights                        0\n",
              "number_of_reviews                     0\n",
              "reviews_per_month                 10052\n",
              "calculated_host_listings_count        0\n",
              "availability_365                      0\n",
              "dtype: int64"
            ]
          },
          "metadata": {},
          "execution_count": 7
        }
      ]
    },
    {
      "cell_type": "markdown",
      "metadata": {
        "id": "WQb6LmWS-De0"
      },
      "source": [
        "The `reviews_per_month` feature has **10052** missing values."
      ]
    },
    {
      "cell_type": "markdown",
      "metadata": {
        "id": "eIFXQ16a9Wk5"
      },
      "source": [
        "### Question 2\n",
        "\n",
        "What's the median (50% percentile) for variable 'minimum_nights'?"
      ]
    },
    {
      "cell_type": "code",
      "metadata": {
        "colab": {
          "base_uri": "https://localhost:8080/"
        },
        "id": "dc_pYBSJ94R0",
        "outputId": "83f24607-8de5-4fee-f2c4-516debcdae35"
      },
      "source": [
        "data.minimum_nights.describe()"
      ],
      "execution_count": 8,
      "outputs": [
        {
          "output_type": "execute_result",
          "data": {
            "text/plain": [
              "count    48895.000000\n",
              "mean         7.029962\n",
              "std         20.510550\n",
              "min          1.000000\n",
              "25%          1.000000\n",
              "50%          3.000000\n",
              "75%          5.000000\n",
              "max       1250.000000\n",
              "Name: minimum_nights, dtype: float64"
            ]
          },
          "metadata": {},
          "execution_count": 8
        }
      ]
    },
    {
      "cell_type": "markdown",
      "metadata": {
        "id": "pfEKVQE9-QYo"
      },
      "source": [
        "The 50% percentile is **3**."
      ]
    },
    {
      "cell_type": "markdown",
      "metadata": {
        "id": "wyaXnsc5-Mcz"
      },
      "source": [
        "### Split the data\n",
        "\n",
        "* Shuffle the initial dataset, use seed `42`.\n",
        "* Split your data in train/val/test sets, with 60%/20%/20% distribution.\n",
        "* Make sure that the target value ('price') is not in your dataframe.\n",
        "* Apply the log transformation to the price variable using the `np.log1p()` function."
      ]
    },
    {
      "cell_type": "code",
      "metadata": {
        "id": "AbWpdt69-M2u"
      },
      "source": [
        "np.random.seed(42)\n",
        "index = list(data.index)\n",
        "np.random.shuffle(index)"
      ],
      "execution_count": 9,
      "outputs": []
    },
    {
      "cell_type": "code",
      "metadata": {
        "colab": {
          "base_uri": "https://localhost:8080/"
        },
        "id": "hcYvn0G8-glw",
        "outputId": "e16db5e5-e7d5-4f1a-c425-a14a44a1b866"
      },
      "source": [
        "samples = data.shape[0]\n",
        "\n",
        "num_val = int(samples*0.2)\n",
        "num_test = int(samples*0.2)\n",
        "num_train = int(samples-(num_val+num_test))\n",
        "\n",
        "samples, num_train, num_val, num_test"
      ],
      "execution_count": 10,
      "outputs": [
        {
          "output_type": "execute_result",
          "data": {
            "text/plain": [
              "(48895, 29337, 9779, 9779)"
            ]
          },
          "metadata": {},
          "execution_count": 10
        }
      ]
    },
    {
      "cell_type": "code",
      "metadata": {
        "id": "zEG0ov-t-mV8"
      },
      "source": [
        "X_train = data.iloc[index[:num_train]].reset_index(drop=True)\n",
        "y_train = np.log1p(X_train.price)\n",
        "del X_train['price']\n",
        "X_val = data.iloc[index[num_train:num_train+num_val]].reset_index(drop=True)\n",
        "y_val = np.log1p(X_val.price)\n",
        "del X_val['price']\n",
        "X_test = data.iloc[index[num_train+num_val:]].reset_index(drop=True)\n",
        "y_test = np.log1p(X_test.price)\n",
        "del X_test['price']"
      ],
      "execution_count": 11,
      "outputs": []
    },
    {
      "cell_type": "markdown",
      "metadata": {
        "id": "NjcEPBdo-cQI"
      },
      "source": [
        "### Question 3\n",
        "\n",
        "* We need to deal with missing values for the column from Q1.\n",
        "* We have two options: fill it with 0 or with the mean of this variable.\n",
        "* Try both options. For each, train a linear regression model without regularization using the code from the lesssons.\n",
        "* For computing the mean, use the training only!\n",
        "* Use the validation dataset to evaluate the models and compare the RMSE of each option.\n",
        "* Round the RMSE scores to 2 decimal digits using `round(score, 2)`\n",
        "* Which option gives better RMSE?"
      ]
    },
    {
      "cell_type": "code",
      "metadata": {
        "id": "4-OGVH-i-coP"
      },
      "source": [
        "def prepare_X(df, val):\n",
        "    df = df.copy()\n",
        "\n",
        "    df = df.fillna(val)\n",
        "    X = df.values\n",
        "    \n",
        "    return X\n",
        "\n",
        "\n",
        "def train_linear_regression(X, y):\n",
        "    ones = np.ones(X.shape[0])\n",
        "    X = np.column_stack([ones, X])\n",
        "\n",
        "    XTX = X.T.dot(X)\n",
        "    XTX_inv = np.linalg.inv(XTX)\n",
        "    w_full = XTX_inv.dot(X.T).dot(y)\n",
        "    \n",
        "    return w_full[0], w_full[1:]\n",
        "\n",
        "\n",
        "def rmse(y, y_pred):\n",
        "    se = (y - y_pred)**2\n",
        "    mse = se.mean()\n",
        "\n",
        "    return np.sqrt(mse)"
      ],
      "execution_count": 12,
      "outputs": []
    },
    {
      "cell_type": "markdown",
      "metadata": {
        "id": "OJ1XAye9-8RW"
      },
      "source": [
        "#### Filling with 0"
      ]
    },
    {
      "cell_type": "code",
      "metadata": {
        "colab": {
          "base_uri": "https://localhost:8080/"
        },
        "id": "jHhpjlX6-_kc",
        "outputId": "9f8584e8-9fd7-4471-86fc-f461464ca742"
      },
      "source": [
        "X_train_updated = prepare_X(X_train, val=0)\n",
        "w0, w = train_linear_regression(X_train_updated, y_train)\n",
        "\n",
        "X_val_updated = prepare_X(X_val, val=0)\n",
        "y_pred = w0 + X_val_updated@w\n",
        "\n",
        "score = rmse(y_val, y_pred)\n",
        "round(score, 2)"
      ],
      "execution_count": 13,
      "outputs": [
        {
          "output_type": "execute_result",
          "data": {
            "text/plain": [
              "0.64"
            ]
          },
          "metadata": {},
          "execution_count": 13
        }
      ]
    },
    {
      "cell_type": "markdown",
      "metadata": {
        "id": "wArwgD7O_Gg4"
      },
      "source": [
        "#### Filling with mean"
      ]
    },
    {
      "cell_type": "code",
      "metadata": {
        "colab": {
          "base_uri": "https://localhost:8080/"
        },
        "id": "of-F7txU_I3X",
        "outputId": "3dd84b25-b96f-44ac-a35d-d205a8af7036"
      },
      "source": [
        "X_train_updated = prepare_X(X_train, val=X_train.reviews_per_month.mean())\n",
        "w0, w = train_linear_regression(X_train_updated, y_train)\n",
        "\n",
        "X_val_updated = prepare_X(X_val, val=X_train.reviews_per_month.mean())\n",
        "y_pred = w0 + X_val_updated@w\n",
        "\n",
        "score = rmse(y_val, y_pred)\n",
        "round(score, 2)"
      ],
      "execution_count": 14,
      "outputs": [
        {
          "output_type": "execute_result",
          "data": {
            "text/plain": [
              "0.64"
            ]
          },
          "metadata": {},
          "execution_count": 14
        }
      ]
    },
    {
      "cell_type": "markdown",
      "metadata": {
        "id": "1Yxc6J-8_NDq"
      },
      "source": [
        "Both the options gave equally good RMSE."
      ]
    },
    {
      "cell_type": "markdown",
      "metadata": {
        "id": "eVnaKnIf-xJg"
      },
      "source": [
        "### Question 4\n",
        "\n",
        "* Now let's train a regularized linear regression.\n",
        "* For this question, fill the NAs with 0. \n",
        "* Try different values of `r` from this list: `[0, 0.000001, 0.0001, 0.001, 0.01, 0.1, 1, 5, 10]`.\n",
        "* Use RMSE to evaluate the model on the validation dataset.\n",
        "* Round the RMSE scores to 2 decimal digits.\n",
        "* Which `r` gives the best RMSE?\n",
        "\n",
        "If there are multiple options, select the smallest `r`."
      ]
    },
    {
      "cell_type": "code",
      "metadata": {
        "id": "7SPmOlia-xhS"
      },
      "source": [
        "def train_linear_regression_reg(X, y, r=0.001):\n",
        "    ones = np.ones(X.shape[0])\n",
        "    X = np.column_stack([ones, X])\n",
        "\n",
        "    XTX = X.T.dot(X)\n",
        "    XTX = XTX + r * np.eye(XTX.shape[0])\n",
        "\n",
        "    XTX_inv = np.linalg.inv(XTX)\n",
        "    w_full = XTX_inv.dot(X.T).dot(y)\n",
        "    \n",
        "    return w_full[0], w_full[1:]"
      ],
      "execution_count": 15,
      "outputs": []
    },
    {
      "cell_type": "code",
      "metadata": {
        "colab": {
          "base_uri": "https://localhost:8080/"
        },
        "id": "WFED2W0o_eAV",
        "outputId": "7a45649a-959d-4a65-e667-3c9f81958a97"
      },
      "source": [
        "scores = []\n",
        "for r in [0, 0.000001, 0.0001, 0.001, 0.01, 0.1, 1, 5, 10]:\n",
        "    X_train_updated = prepare_X(X_train, val=0)\n",
        "    w0, w = train_linear_regression_reg(X_train_updated, y_train, r=r)\n",
        "\n",
        "    X_val_updated = prepare_X(X_val, val=0)\n",
        "    y_pred = w0 + X_val_updated@w\n",
        "\n",
        "    score = rmse(y_val, y_pred)\n",
        "    scores.append(round(score, 2))\n",
        "\n",
        "scores"
      ],
      "execution_count": 16,
      "outputs": [
        {
          "output_type": "execute_result",
          "data": {
            "text/plain": [
              "[0.64, 0.64, 0.64, 0.64, 0.66, 0.68, 0.68, 0.68, 0.68]"
            ]
          },
          "metadata": {},
          "execution_count": 16
        }
      ]
    },
    {
      "cell_type": "markdown",
      "metadata": {
        "id": "x_uHptBj_kqq"
      },
      "source": [
        "`r=0` gives the best RMSE. So, there is no need for regularization in this problem."
      ]
    },
    {
      "cell_type": "markdown",
      "metadata": {
        "id": "EExYbMI-_aFd"
      },
      "source": [
        "### Question 5 \n",
        "\n",
        "* We used seed 42 for splitting the data. Let's find out how selecting the seed influences our score.\n",
        "* Try different seed values: `[0, 1, 2, 3, 4, 5, 6, 7, 8, 9]`.\n",
        "* For each seed, do the train/validation/test split with 60%/20%/20% distribution.\n",
        "* Fill the missing values with 0 and train a model without regularization.\n",
        "* For each seed, evaluate the model on the validation dataset and collect the RMSE scores. \n",
        "* What's the standard deviation of all the scores? To compute the standard deviation, use `np.std`.\n",
        "* Round the result to 3 decimal digits (`round(std, 3)`)\n",
        "\n",
        "\n",
        "> Note: Standard deviation shows how different the values are.\n",
        "> If it's low, then all values are approximately the same.\n",
        "> If it's high, the values are different. \n",
        "> If standard deviation of scores is low, then our model is *stable*."
      ]
    },
    {
      "cell_type": "code",
      "metadata": {
        "colab": {
          "base_uri": "https://localhost:8080/"
        },
        "id": "tF-xM3VP_abC",
        "outputId": "8c398322-5f38-490d-d155-c1c7fe2ab9b2"
      },
      "source": [
        "scores = []\n",
        "for seed in [0, 1, 2, 3, 4, 5, 6, 7, 8, 9]:\n",
        "    np.random.seed(seed)\n",
        "    index = list(data.index)\n",
        "    np.random.shuffle(index)\n",
        "\n",
        "    num_val = int(samples*0.2)\n",
        "    num_test = int(samples*0.2)\n",
        "    num_train = int(samples-(num_val+num_test))\n",
        "\n",
        "    X_train = data.iloc[index[:num_train]].reset_index(drop=True)\n",
        "    y_train = np.log1p(X_train.price)\n",
        "    del X_train['price']\n",
        "    X_val = data.iloc[index[num_train:num_train+num_val]].reset_index(drop=True)\n",
        "    y_val = np.log1p(X_val.price)\n",
        "    del X_val['price']\n",
        "    X_test = data.iloc[index[num_train+num_val:]].reset_index(drop=True)\n",
        "    y_test = np.log1p(X_test.price)\n",
        "    del X_test['price']\n",
        "\n",
        "    X_train_updated = prepare_X(X_train, val=0)\n",
        "    w0, w = train_linear_regression(X_train_updated, y_train)\n",
        "\n",
        "    X_val_updated = prepare_X(X_val, val=0)\n",
        "    y_pred = w0 + X_val_updated@w\n",
        "\n",
        "    score = rmse(y_val, y_pred)\n",
        "    scores.append(score)\n",
        "\n",
        "scores"
      ],
      "execution_count": 17,
      "outputs": [
        {
          "output_type": "execute_result",
          "data": {
            "text/plain": [
              "[0.6549779961157265,\n",
              " 0.6462523685787196,\n",
              " 0.6476558177163435,\n",
              " 0.6375145071233633,\n",
              " 0.6445809083551752,\n",
              " 0.6305809996077186,\n",
              " 0.6297851917617099,\n",
              " 0.6506184267164323,\n",
              " 0.6489780353432691,\n",
              " 0.6437565168302605]"
            ]
          },
          "metadata": {},
          "execution_count": 17
        }
      ]
    },
    {
      "cell_type": "code",
      "metadata": {
        "colab": {
          "base_uri": "https://localhost:8080/"
        },
        "id": "hh3E2RYB_2EV",
        "outputId": "dd39afc0-de0e-437c-eb70-621b3036cb6d"
      },
      "source": [
        "std = np.std(scores)\n",
        "round(std, 3)"
      ],
      "execution_count": 18,
      "outputs": [
        {
          "output_type": "execute_result",
          "data": {
            "text/plain": [
              "0.008"
            ]
          },
          "metadata": {},
          "execution_count": 18
        }
      ]
    },
    {
      "cell_type": "markdown",
      "metadata": {
        "id": "rk_hW1uc_71U"
      },
      "source": [
        "The standard deviation is **0.008** which is low and thus it can be concluded that the model trained is stable."
      ]
    },
    {
      "cell_type": "markdown",
      "metadata": {
        "id": "QeKB7jZy_vry"
      },
      "source": [
        "### Question 6\n",
        "\n",
        "* Split the dataset like previously, use seed 9.\n",
        "* Combine train and validation datasets.\n",
        "* Train a model with `r=0.001`.\n",
        "* What's the RMSE on the test dataset?"
      ]
    },
    {
      "cell_type": "code",
      "metadata": {
        "colab": {
          "base_uri": "https://localhost:8080/"
        },
        "id": "XGhBPTVQ_wL6",
        "outputId": "00fa0f9b-bafa-4c55-9636-149d10813daa"
      },
      "source": [
        "np.random.seed(9)\n",
        "index = list(data.index)\n",
        "np.random.shuffle(index)\n",
        "\n",
        "num_val = int(samples*0.2)\n",
        "num_test = int(samples*0.2)\n",
        "num_train = int(samples-(num_val+num_test))\n",
        "\n",
        "X_train = data.iloc[index[:num_train]].reset_index(drop=True)\n",
        "y_train = np.log1p(X_train.price)\n",
        "del X_train['price']\n",
        "X_val = data.iloc[index[num_train:num_train+num_val]].reset_index(drop=True)\n",
        "y_val = np.log1p(X_val.price)\n",
        "del X_val['price']\n",
        "X_test = data.iloc[index[num_train+num_val:]].reset_index(drop=True)\n",
        "y_test = np.log1p(X_test.price)\n",
        "del X_test['price']\n",
        "\n",
        "X_full = pd.concat((X_train, X_val))\n",
        "y_full = list(y_train)+list(y_val)\n",
        "\n",
        "X_full_updated = prepare_X(X_full, val=0)\n",
        "w0, w = train_linear_regression_reg(X_full_updated, y_full, r=0.001)\n",
        "\n",
        "X_test_updated = prepare_X(X_test, val=0)\n",
        "y_pred = w0 + X_test_updated@w\n",
        "\n",
        "score = rmse(y_test, y_pred)\n",
        "score"
      ],
      "execution_count": 19,
      "outputs": [
        {
          "output_type": "execute_result",
          "data": {
            "text/plain": [
              "0.6452771348554619"
            ]
          },
          "metadata": {},
          "execution_count": 19
        }
      ]
    },
    {
      "cell_type": "markdown",
      "metadata": {
        "id": "LmYI_qiKAQoS"
      },
      "source": [
        "The RMSE on test dataset is **0.65**."
      ]
    }
  ]
}