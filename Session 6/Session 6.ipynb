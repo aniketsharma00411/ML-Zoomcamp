{
  "nbformat": 4,
  "nbformat_minor": 0,
  "metadata": {
    "kernelspec": {
      "display_name": "Python 3",
      "language": "python",
      "name": "python3"
    },
    "language_info": {
      "codemirror_mode": {
        "name": "ipython",
        "version": 3
      },
      "file_extension": ".py",
      "mimetype": "text/x-python",
      "name": "python",
      "nbconvert_exporter": "python",
      "pygments_lexer": "ipython3",
      "version": "3.7.3"
    },
    "colab": {
      "name": "ML Zoomcamp Session 6.ipynb",
      "provenance": [],
      "collapsed_sections": [],
      "include_colab_link": true
    }
  },
  "cells": [
    {
      "cell_type": "markdown",
      "metadata": {
        "id": "view-in-github",
        "colab_type": "text"
      },
      "source": [
        "<a href=\"https://colab.research.google.com/github/aniketsharma00411/ML-Zoomcamp/blob/main/Session%206/Session%206.ipynb\" target=\"_parent\"><img src=\"https://colab.research.google.com/assets/colab-badge.svg\" alt=\"Open In Colab\"/></a>"
      ]
    },
    {
      "cell_type": "markdown",
      "metadata": {
        "id": "kNtm3WCI9BPj"
      },
      "source": [
        "## Homework 6\n",
        "\n",
        "The goal of this homework is to create a tree-based regression model for prediction apartment prices (column `'price'`).\n",
        "\n",
        "In this homework we'll again use the New York City Airbnb Open Data dataset - the same one we used in homework 2 and 3.\n",
        "\n",
        "You can take it from [Kaggle](https://www.kaggle.com/dgomonov/new-york-city-airbnb-open-data?select=AB_NYC_2019.csv)\n",
        "or download from [here](https://raw.githubusercontent.com/alexeygrigorev/datasets/master/AB_NYC_2019.csv)\n",
        "if you don't want to sign up to Kaggle.\n",
        "\n",
        "Let's load the data:"
      ]
    },
    {
      "cell_type": "code",
      "metadata": {
        "id": "g9IyKUnL9BPq"
      },
      "source": [
        "import pandas as pd\n",
        "import numpy as np\n",
        "\n",
        "import matplotlib.pyplot as plt\n",
        "import seaborn as sns\n",
        "\n",
        "from sklearn.model_selection import train_test_split\n",
        "from sklearn.feature_extraction import DictVectorizer\n",
        "from sklearn.tree import DecisionTreeRegressor\n",
        "from sklearn.tree import export_text\n",
        "from sklearn.ensemble import  RandomForestRegressor\n",
        "from sklearn.metrics import mean_squared_error\n",
        "\n",
        "import xgboost as xgb"
      ],
      "execution_count": 1,
      "outputs": []
    },
    {
      "cell_type": "code",
      "metadata": {
        "colab": {
          "base_uri": "https://localhost:8080/"
        },
        "id": "B9mOMOTiZEuw",
        "outputId": "e1efb774-4cd7-4c0e-c0c6-244d26aca581"
      },
      "source": [
        "! wget https://raw.githubusercontent.com/alexeygrigorev/datasets/master/AB_NYC_2019.csv"
      ],
      "execution_count": 2,
      "outputs": [
        {
          "output_type": "stream",
          "name": "stdout",
          "text": [
            "--2021-10-20 14:12:52--  https://raw.githubusercontent.com/alexeygrigorev/datasets/master/AB_NYC_2019.csv\n",
            "Resolving raw.githubusercontent.com (raw.githubusercontent.com)... 185.199.108.133, 185.199.109.133, 185.199.110.133, ...\n",
            "Connecting to raw.githubusercontent.com (raw.githubusercontent.com)|185.199.108.133|:443... connected.\n",
            "HTTP request sent, awaiting response... 200 OK\n",
            "Length: 7077973 (6.8M) [text/plain]\n",
            "Saving to: ‘AB_NYC_2019.csv’\n",
            "\n",
            "AB_NYC_2019.csv     100%[===================>]   6.75M  --.-KB/s    in 0.1s    \n",
            "\n",
            "2021-10-20 14:12:55 (66.2 MB/s) - ‘AB_NYC_2019.csv’ saved [7077973/7077973]\n",
            "\n"
          ]
        }
      ]
    },
    {
      "cell_type": "code",
      "metadata": {
        "id": "DMpMWSpI9BPt"
      },
      "source": [
        "columns = [\n",
        "    'neighbourhood_group', 'room_type', 'latitude', 'longitude',\n",
        "    'minimum_nights', 'number_of_reviews','reviews_per_month',\n",
        "    'calculated_host_listings_count', 'availability_365',\n",
        "    'price'\n",
        "]\n",
        "\n",
        "df = pd.read_csv('AB_NYC_2019.csv', usecols=columns)\n",
        "df.reviews_per_month = df.reviews_per_month.fillna(0)"
      ],
      "execution_count": 3,
      "outputs": []
    },
    {
      "cell_type": "markdown",
      "metadata": {
        "id": "ORFjRefL9BPu"
      },
      "source": [
        "* Apply the log tranform to `price`\n",
        "* Do train/validation/test split with 60%/20%/20% distribution. \n",
        "* Use the `train_test_split` function and set the `random_state` parameter to 1"
      ]
    },
    {
      "cell_type": "code",
      "metadata": {
        "id": "QyHlFErX9BPv"
      },
      "source": [
        "target = np.log1p(df.price)\n",
        "\n",
        "del df['price']"
      ],
      "execution_count": 4,
      "outputs": []
    },
    {
      "cell_type": "code",
      "metadata": {
        "id": "fJ-Ds4BHZSZd"
      },
      "source": [
        "X_full_train, X_test, y_full_train, y_test = train_test_split(df, target, test_size=0.2, random_state=1)\n",
        "X_train, X_val, y_train, y_val = train_test_split(X_full_train, y_full_train, test_size=0.25, random_state=1)"
      ],
      "execution_count": 5,
      "outputs": []
    },
    {
      "cell_type": "markdown",
      "metadata": {
        "id": "VzhCJSNz9BPv"
      },
      "source": [
        "Now, use `DictVectorizer` to turn train and validation into matrices:"
      ]
    },
    {
      "cell_type": "code",
      "metadata": {
        "id": "Hyhf_cvh9BPw"
      },
      "source": [
        "dv = DictVectorizer(sparse=False)\n",
        "\n",
        "train_dict = X_train.to_dict(orient='records')\n",
        "X_train_transformed = dv.fit_transform(train_dict)\n",
        "\n",
        "val_dict = X_val.to_dict(orient='records')\n",
        "X_val_transformed = dv.transform(val_dict)"
      ],
      "execution_count": 6,
      "outputs": []
    },
    {
      "cell_type": "markdown",
      "metadata": {
        "id": "mY6zkjBD9BPw"
      },
      "source": [
        "## Question 1\n",
        "\n",
        "Let's train a decision tree regressor to predict the price variable. \n",
        "\n",
        "* Train a model with `max_depth=1`"
      ]
    },
    {
      "cell_type": "code",
      "metadata": {
        "id": "gjyI-ZZh9BPx",
        "colab": {
          "base_uri": "https://localhost:8080/"
        },
        "outputId": "efa0f2b2-6bb1-4e1e-a005-8f23cc4d7d14"
      },
      "source": [
        "model1 = DecisionTreeRegressor(max_depth=1)\n",
        "\n",
        "model1.fit(X_train_transformed, y_train)\n",
        "\n",
        "print(export_text(model1, feature_names=dv.get_feature_names()))"
      ],
      "execution_count": 7,
      "outputs": [
        {
          "output_type": "stream",
          "name": "stdout",
          "text": [
            "|--- room_type=Entire home/apt <= 0.50\n",
            "|   |--- value: [4.29]\n",
            "|--- room_type=Entire home/apt >  0.50\n",
            "|   |--- value: [5.15]\n",
            "\n"
          ]
        }
      ]
    },
    {
      "cell_type": "markdown",
      "metadata": {
        "id": "IEojYk9z9BPz"
      },
      "source": [
        "Which feature is used for splitting the data?\n",
        "\n",
        "* **`room_type`**\n",
        "* `neighbourhood_group`\n",
        "* `number_of_reviews`\n",
        "* `reviews_per_month`"
      ]
    },
    {
      "cell_type": "markdown",
      "metadata": {
        "id": "f0LL6cw29BPz"
      },
      "source": [
        "## Question 2\n",
        "\n",
        "Train a random forest model with these parameters:\n",
        "\n",
        "* `n_estimators=10`\n",
        "* `random_state=1`\n",
        "* `n_jobs=-1`  (optional - to make training faster)"
      ]
    },
    {
      "cell_type": "code",
      "metadata": {
        "id": "-2gWEr-B9BP0",
        "colab": {
          "base_uri": "https://localhost:8080/"
        },
        "outputId": "f3295da7-8fec-4c0e-c81b-d9f378f680bd"
      },
      "source": [
        "model2 = RandomForestRegressor(n_estimators=10, random_state=1, n_jobs=-1)\n",
        "\n",
        "model2.fit(X_train_transformed, y_train)\n",
        "\n",
        "mean_squared_error(model2.predict(X_val_transformed), y_val, squared=False)"
      ],
      "execution_count": 8,
      "outputs": [
        {
          "output_type": "execute_result",
          "data": {
            "text/plain": [
              "0.460888788095762"
            ]
          },
          "metadata": {},
          "execution_count": 8
        }
      ]
    },
    {
      "cell_type": "markdown",
      "metadata": {
        "id": "Kl-swcXB9BP0"
      },
      "source": [
        "What's the RMSE of this model on validation?\n",
        "\n",
        "* 0.059\n",
        "* 0.259\n",
        "* **0.459**\n",
        "* 0.659"
      ]
    },
    {
      "cell_type": "markdown",
      "metadata": {
        "id": "GhY3veKV9BP1"
      },
      "source": [
        "## Question 3\n",
        "\n",
        "Now let's experiment with the `n_estimators` parameter\n",
        "\n",
        "* Try different values of this parameter from 10 to 200 with step 10\n",
        "* Set `random_state` to `1`\n",
        "* Evaluate the model on the validation dataset"
      ]
    },
    {
      "cell_type": "code",
      "metadata": {
        "id": "J_Y-Chtj9BP2",
        "colab": {
          "base_uri": "https://localhost:8080/"
        },
        "outputId": "28672818-1704-4251-d979-c692fc4ae6eb"
      },
      "source": [
        "scores = {}\n",
        "for n_estimators in range(10, 201, 10):\n",
        "    model3 = RandomForestRegressor(n_estimators=n_estimators, random_state=1, n_jobs=-1)\n",
        "    model3.fit(X_train_transformed, y_train)\n",
        "\n",
        "    scores[n_estimators] = mean_squared_error(model3.predict(X_val_transformed), y_val, squared=False)\n",
        "\n",
        "scores"
      ],
      "execution_count": 9,
      "outputs": [
        {
          "output_type": "execute_result",
          "data": {
            "text/plain": [
              "{10: 0.460888788095762,\n",
              " 20: 0.44744055425901735,\n",
              " 30: 0.44440015830200136,\n",
              " 40: 0.44281711871165336,\n",
              " 50: 0.44176815762157207,\n",
              " 60: 0.44125165338475053,\n",
              " 70: 0.44064455072014125,\n",
              " 80: 0.44074083026304695,\n",
              " 90: 0.44027490203116176,\n",
              " 100: 0.4397631903425602,\n",
              " 110: 0.4393128261208466,\n",
              " 120: 0.43912990819267467,\n",
              " 130: 0.4392796575512702,\n",
              " 140: 0.4391514983746916,\n",
              " 150: 0.43902892484355854,\n",
              " 160: 0.4388423640549406,\n",
              " 170: 0.4387460509023033,\n",
              " 180: 0.4388528948224223,\n",
              " 190: 0.43879074353852315,\n",
              " 200: 0.4387871286025359}"
            ]
          },
          "metadata": {},
          "execution_count": 9
        }
      ]
    },
    {
      "cell_type": "code",
      "metadata": {
        "colab": {
          "base_uri": "https://localhost:8080/",
          "height": 265
        },
        "id": "TgWGCutS7BvQ",
        "outputId": "7c5aeca9-85a8-4530-f18a-84100760f9d4"
      },
      "source": [
        "plt.plot(list(scores.keys()), list(scores.values()))\n",
        "\n",
        "plt.axvline(10, color='r', linestyle='--')\n",
        "plt.axvline(50, color='r', linestyle='--')\n",
        "plt.axvline(70, color='r', linestyle='--')\n",
        "plt.axvline(120, color='r', linestyle='--')\n",
        "\n",
        "plt.show()"
      ],
      "execution_count": 10,
      "outputs": [
        {
          "output_type": "display_data",
          "data": {
            "image/png": "[encoded data removed]",
            "text/plain": [
              "<Figure size 432x288 with 1 Axes>"
            ]
          },
          "metadata": {
            "needs_background": "light"
          }
        }
      ]
    },
    {
      "cell_type": "markdown",
      "metadata": {
        "id": "5olRG8VI9BP2"
      },
      "source": [
        "After which value of `n_estimators` does RMSE stop improving?\n",
        "\n",
        "- 10\n",
        "- 50\n",
        "- 70\n",
        "- **120**"
      ]
    },
    {
      "cell_type": "markdown",
      "metadata": {
        "id": "MJAwfiih9BP2"
      },
      "source": [
        "## Question 4\n",
        "\n",
        "Let's select the best `max_depth`:\n",
        "\n",
        "* Try different values of `max_depth`: `[10, 15, 20, 25]`\n",
        "* For each of these values, try different values of `n_estimators` from 10 till 200 (with step 10)\n",
        "* Fix the random seed: `random_state=1`"
      ]
    },
    {
      "cell_type": "code",
      "metadata": {
        "id": "px1OXOyF9BP3",
        "colab": {
          "base_uri": "https://localhost:8080/"
        },
        "outputId": "3f0097bf-5562-47fa-c2d5-a0bc68a604bb"
      },
      "source": [
        "scores = {}\n",
        "for max_depth in [10, 15, 20, 25]:\n",
        "    scores[max_depth] = {}\n",
        "    for n_estimators in range(10, 201, 10):\n",
        "        model4 = RandomForestRegressor(\n",
        "            n_estimators=n_estimators,\n",
        "            max_depth=max_depth,\n",
        "            random_state=1,\n",
        "            n_jobs=-1\n",
        "        )\n",
        "        model4.fit(X_train_transformed, y_train)\n",
        "\n",
        "        scores[max_depth][n_estimators] = mean_squared_error(model4.predict(X_val_transformed), y_val, squared=False)\n",
        "\n",
        "scores"
      ],
      "execution_count": 11,
      "outputs": [
        {
          "output_type": "execute_result",
          "data": {
            "text/plain": [
              "{10: {10: 0.44520997451725497,\n",
              "  20: 0.44188768969228903,\n",
              "  30: 0.4412072430403244,\n",
              "  40: 0.441302539566751,\n",
              "  50: 0.44094661033788907,\n",
              "  60: 0.4410194069419074,\n",
              "  70: 0.4408176000010481,\n",
              "  80: 0.4406786332321829,\n",
              "  90: 0.44039309045805686,\n",
              "  100: 0.44016087713810426,\n",
              "  110: 0.4401070986887385,\n",
              "  120: 0.43988415134762726,\n",
              "  130: 0.4399221119826575,\n",
              "  140: 0.43991391462947493,\n",
              "  150: 0.4397403211692405,\n",
              "  160: 0.4396909000703574,\n",
              "  170: 0.43966710118276714,\n",
              "  180: 0.43978907843722126,\n",
              "  190: 0.43973084347364055,\n",
              "  200: 0.4397273925569717},\n",
              " 15: {10: 0.4502764734468855,\n",
              "  20: 0.4412498927762147,\n",
              "  30: 0.4397632942548365,\n",
              "  40: 0.43889977393932633,\n",
              "  50: 0.43808317617709414,\n",
              "  60: 0.43776561899596245,\n",
              "  70: 0.43737018304491615,\n",
              "  80: 0.43723853057685913,\n",
              "  90: 0.43682458657973466,\n",
              "  100: 0.4364995813365257,\n",
              "  110: 0.43623556376114225,\n",
              "  120: 0.436221775229202,\n",
              "  130: 0.43625311956400475,\n",
              "  140: 0.43613464382761596,\n",
              "  150: 0.4361678070168537,\n",
              "  160: 0.43598032251716634,\n",
              "  170: 0.4358902747137396,\n",
              "  180: 0.43607469678764726,\n",
              "  190: 0.43605266557958333,\n",
              "  200: 0.43602704487581345},\n",
              " 20: {10: 0.4585647393201247,\n",
              "  20: 0.44624949423712823,\n",
              "  30: 0.4440610381477068,\n",
              "  40: 0.44247822975036494,\n",
              "  50: 0.4410732190747157,\n",
              "  60: 0.4404834790199017,\n",
              "  70: 0.43995665475289847,\n",
              "  80: 0.43996653378273576,\n",
              "  90: 0.4392470713580365,\n",
              "  100: 0.43886934667268807,\n",
              "  110: 0.4384217465583603,\n",
              "  120: 0.4381886442046175,\n",
              "  130: 0.43817096708685255,\n",
              "  140: 0.4379459554654234,\n",
              "  150: 0.4379403867320411,\n",
              "  160: 0.4378051901916333,\n",
              "  170: 0.4377271739639964,\n",
              "  180: 0.4378361014728349,\n",
              "  190: 0.4377601794978258,\n",
              "  200: 0.4377952041608392},\n",
              " 25: {10: 0.4608812993440649,\n",
              "  20: 0.44778344333186204,\n",
              "  30: 0.4446828910588172,\n",
              "  40: 0.44292720578491285,\n",
              "  50: 0.442038896302953,\n",
              "  60: 0.4414435612748096,\n",
              "  70: 0.4407270599411504,\n",
              "  80: 0.440752754223262,\n",
              "  90: 0.4401617184605655,\n",
              "  100: 0.43991709459754186,\n",
              "  110: 0.43938123910460564,\n",
              "  120: 0.43917193514076613,\n",
              "  130: 0.4392052502707998,\n",
              "  140: 0.4390357810726889,\n",
              "  150: 0.438928356383729,\n",
              "  160: 0.4387656702527446,\n",
              "  170: 0.4386409134885594,\n",
              "  180: 0.4387624210502079,\n",
              "  190: 0.43867028034055433,\n",
              "  200: 0.4386183682374325}}"
            ]
          },
          "metadata": {},
          "execution_count": 11
        }
      ]
    },
    {
      "cell_type": "code",
      "metadata": {
        "colab": {
          "base_uri": "https://localhost:8080/",
          "height": 265
        },
        "id": "RfnVh4yICU94",
        "outputId": "19a98e26-33ba-4ffa-dea5-f68e5e1f8b23"
      },
      "source": [
        "for max_depth, score in scores.items():\n",
        "    plt.plot(list(score.keys()), list(score.values()), label=f'max_depth={max_depth}')\n",
        "\n",
        "plt.legend()\n",
        "\n",
        "plt.show()"
      ],
      "execution_count": 12,
      "outputs": [
        {
          "output_type": "display_data",
          "data": {
            "image/png": "[encoded data removed]",
            "text/plain": [
              "<Figure size 432x288 with 1 Axes>"
            ]
          },
          "metadata": {
            "needs_background": "light"
          }
        }
      ]
    },
    {
      "cell_type": "markdown",
      "metadata": {
        "id": "IS3Hjn0h9BP3"
      },
      "source": [
        "What's the best `max_depth`:\n",
        "\n",
        "* 10\n",
        "* **15**\n",
        "* 20\n",
        "* 25\n",
        "\n",
        "Bonus question (not graded):\n",
        "\n",
        "Will the answer be different if we change the seed for the model?"
      ]
    },
    {
      "cell_type": "markdown",
      "metadata": {
        "id": "LWfHZ1ru9BP4"
      },
      "source": [
        "## Question 5\n",
        "\n",
        "We can extract feature importance information from tree-based models. \n",
        "\n",
        "At each step of the decision tree learning algorith, it finds the best split. \n",
        "When doint it, we can calculate \"gain\" - the reduction in impurity before and after the split. \n",
        "This gain is quite useful in understanding what are the imporatant features \n",
        "for tree-based models.\n",
        "\n",
        "In Scikit-Learn, tree-based models contain this information in the `feature_importances_` field. \n",
        "\n",
        "For this homework question, we'll find the most important feature:\n",
        "\n",
        "* Train the model with these parametes:\n",
        "    * `n_estimators=10`,\n",
        "    * `max_depth=20`,\n",
        "    * `random_state=1`,\n",
        "    * `n_jobs=-1` (optional)\n",
        "* Get the feature importance information from this model"
      ]
    },
    {
      "cell_type": "code",
      "metadata": {
        "id": "jajsEASj9BP5",
        "colab": {
          "base_uri": "https://localhost:8080/"
        },
        "outputId": "f83a1372-e70c-4f7c-8ad6-ae8cce174f12"
      },
      "source": [
        "model5 = RandomForestRegressor(\n",
        "    n_estimators=10,\n",
        "    max_depth=20,\n",
        "    random_state=1,\n",
        "    n_jobs=-1\n",
        ")\n",
        "model5.fit(X_train_transformed, y_train)\n",
        "\n",
        "list(zip(dv.get_feature_names(), model5.feature_importances_))"
      ],
      "execution_count": 13,
      "outputs": [
        {
          "output_type": "execute_result",
          "data": {
            "text/plain": [
              "[('availability_365', 0.07651608462923112),\n",
              " ('calculated_host_listings_count', 0.030906352520589986),\n",
              " ('latitude', 0.15205397490899036),\n",
              " ('longitude', 0.15321933669623872),\n",
              " ('minimum_nights', 0.0536452299566982),\n",
              " ('neighbourhood_group=Bronx', 0.0002838225491492307),\n",
              " ('neighbourhood_group=Brooklyn', 0.0011661162111558155),\n",
              " ('neighbourhood_group=Manhattan', 0.03401674428986242),\n",
              " ('neighbourhood_group=Queens', 0.0011532423357895512),\n",
              " ('neighbourhood_group=Staten Island', 0.00011802695206485345),\n",
              " ('number_of_reviews', 0.0435248857335957),\n",
              " ('reviews_per_month', 0.05243793489874994),\n",
              " ('room_type=Entire home/apt', 0.3918968371926611),\n",
              " ('room_type=Private room', 0.004520617592045859),\n",
              " ('room_type=Shared room', 0.004540793533177226)]"
            ]
          },
          "metadata": {},
          "execution_count": 13
        }
      ]
    },
    {
      "cell_type": "markdown",
      "metadata": {
        "id": "n_HC601A9BP5"
      },
      "source": [
        "What's the most important feature? \n",
        "\n",
        "* `neighbourhood_group=Manhattan`\n",
        "* **`room_type=Entire home/apt`**\n",
        "* `longitude`\n",
        "* `latitude`"
      ]
    },
    {
      "cell_type": "markdown",
      "metadata": {
        "id": "ucl1zfVZ9BP6"
      },
      "source": [
        "## Question 6"
      ]
    },
    {
      "cell_type": "markdown",
      "metadata": {
        "id": "9011AYs_9BP6"
      },
      "source": [
        "Now let's train an XGBoost model! For this question, we'll tune the `eta` parameter\n",
        "\n",
        "* Install XGBoost\n",
        "* Create DMatrix for train and validation\n",
        "* Create a watchlist\n",
        "* Train a model with these parameters for 100 rounds:\n",
        "\n",
        "```\n",
        "xgb_params = {\n",
        "    'eta': 0.3, \n",
        "    'max_depth': 6,\n",
        "    'min_child_weight': 1,\n",
        "    \n",
        "    'objective': 'reg:squarederror',\n",
        "    'nthread': 8,\n",
        "    \n",
        "    'seed': 1,\n",
        "    'verbosity': 1,\n",
        "}\n",
        "```"
      ]
    },
    {
      "cell_type": "code",
      "metadata": {
        "id": "O6XEwW0sdrzb"
      },
      "source": [
        "features = dv.get_feature_names()\n",
        "dtrain = xgb.DMatrix(X_train_transformed, label=y_train, feature_names=features)\n",
        "dval = xgb.DMatrix(X_val_transformed, label=y_val, feature_names=features)"
      ],
      "execution_count": 14,
      "outputs": []
    },
    {
      "cell_type": "code",
      "metadata": {
        "id": "Y35j-WVMdx3c"
      },
      "source": [
        "watchlist = [(dtrain, 'train'), (dval, 'val')]"
      ],
      "execution_count": 15,
      "outputs": []
    },
    {
      "cell_type": "code",
      "metadata": {
        "colab": {
          "base_uri": "https://localhost:8080/"
        },
        "id": "Ky3-v6U7d3vI",
        "outputId": "525ce26f-95bb-4cd9-b8b6-4244571a0d8d"
      },
      "source": [
        "xgb_params = {\n",
        "    'eta': 0.3, \n",
        "    'max_depth': 6,\n",
        "    'min_child_weight': 1,\n",
        "\n",
        "    'objective': 'reg:squarederror',\n",
        "    'nthread': 8,\n",
        "\n",
        "    'seed': 1,\n",
        "    'verbosity': 1,\n",
        "}\n",
        "\n",
        "model61 = xgb.train(\n",
        "    xgb_params,\n",
        "    dtrain,\n",
        "    evals=watchlist\n",
        ")"
      ],
      "execution_count": 16,
      "outputs": [
        {
          "output_type": "stream",
          "name": "stdout",
          "text": [
            "[0]\ttrain-rmse:3.02752\tval-rmse:3.02415\n",
            "[1]\ttrain-rmse:2.14667\tval-rmse:2.1439\n",
            "[2]\ttrain-rmse:1.53878\tval-rmse:1.53721\n",
            "[3]\ttrain-rmse:1.12557\tval-rmse:1.12524\n",
            "[4]\ttrain-rmse:0.851002\tval-rmse:0.851752\n",
            "[5]\ttrain-rmse:0.674904\tval-rmse:0.677523\n",
            "[6]\ttrain-rmse:0.566867\tval-rmse:0.571483\n",
            "[7]\ttrain-rmse:0.504476\tval-rmse:0.511388\n",
            "[8]\ttrain-rmse:0.469135\tval-rmse:0.477768\n",
            "[9]\ttrain-rmse:0.450101\tval-rmse:0.459656\n"
          ]
        }
      ]
    },
    {
      "cell_type": "markdown",
      "metadata": {
        "id": "JLhsiD359BP8"
      },
      "source": [
        "Now change `eta` first to `0.1` and then to `0.01`"
      ]
    },
    {
      "cell_type": "code",
      "metadata": {
        "id": "temtxEqs9BP8",
        "colab": {
          "base_uri": "https://localhost:8080/"
        },
        "outputId": "7f15332d-d9e6-4a7d-bdd8-55e33009a8ec"
      },
      "source": [
        "xgb_params = {\n",
        "    'eta': 0.1, \n",
        "    'max_depth': 6,\n",
        "    'min_child_weight': 1,\n",
        "\n",
        "    'objective': 'reg:squarederror',\n",
        "    'nthread': 8,\n",
        "\n",
        "    'seed': 1,\n",
        "    'verbosity': 1,\n",
        "}\n",
        "\n",
        "model62 = xgb.train(\n",
        "    xgb_params,\n",
        "    dtrain,\n",
        "    evals=watchlist\n",
        ")"
      ],
      "execution_count": 17,
      "outputs": [
        {
          "output_type": "stream",
          "name": "stdout",
          "text": [
            "[0]\ttrain-rmse:3.87217\tval-rmse:3.86889\n",
            "[1]\ttrain-rmse:3.4915\tval-rmse:3.4884\n",
            "[2]\ttrain-rmse:3.14949\tval-rmse:3.14635\n",
            "[3]\ttrain-rmse:2.84231\tval-rmse:2.83953\n",
            "[4]\ttrain-rmse:2.56649\tval-rmse:2.56407\n",
            "[5]\ttrain-rmse:2.31905\tval-rmse:2.31689\n",
            "[6]\ttrain-rmse:2.09713\tval-rmse:2.09526\n",
            "[7]\ttrain-rmse:1.89832\tval-rmse:1.89664\n",
            "[8]\ttrain-rmse:1.72031\tval-rmse:1.71879\n",
            "[9]\ttrain-rmse:1.5612\tval-rmse:1.55978\n"
          ]
        }
      ]
    },
    {
      "cell_type": "code",
      "metadata": {
        "colab": {
          "base_uri": "https://localhost:8080/"
        },
        "id": "ZLNXMMiqeV7r",
        "outputId": "8dc3a6dc-63b6-43dc-8af2-e4a08d20eb06"
      },
      "source": [
        "xgb_params = {\n",
        "    'eta': 0.01, \n",
        "    'max_depth': 6,\n",
        "    'min_child_weight': 1,\n",
        "\n",
        "    'objective': 'reg:squarederror',\n",
        "    'nthread': 8,\n",
        "\n",
        "    'seed': 1,\n",
        "    'verbosity': 1,\n",
        "}\n",
        "\n",
        "model63 = xgb.train(\n",
        "    xgb_params,\n",
        "    dtrain,\n",
        "    evals=watchlist\n",
        ")"
      ],
      "execution_count": 18,
      "outputs": [
        {
          "output_type": "stream",
          "name": "stdout",
          "text": [
            "[0]\ttrain-rmse:4.25336\tval-rmse:4.2501\n",
            "[1]\ttrain-rmse:4.21141\tval-rmse:4.20815\n",
            "[2]\ttrain-rmse:4.16988\tval-rmse:4.16661\n",
            "[3]\ttrain-rmse:4.12877\tval-rmse:4.12551\n",
            "[4]\ttrain-rmse:4.08807\tval-rmse:4.08481\n",
            "[5]\ttrain-rmse:4.04779\tval-rmse:4.04454\n",
            "[6]\ttrain-rmse:4.00792\tval-rmse:4.00467\n",
            "[7]\ttrain-rmse:3.96845\tval-rmse:3.96521\n",
            "[8]\ttrain-rmse:3.92937\tval-rmse:3.92616\n",
            "[9]\ttrain-rmse:3.8907\tval-rmse:3.88749\n"
          ]
        }
      ]
    },
    {
      "cell_type": "markdown",
      "metadata": {
        "id": "X6-oJbuA9BP8"
      },
      "source": [
        "Which eta leads to the best RMSE score on the validation dataset?\n",
        "\n",
        "* **0.3**\n",
        "* 0.1\n",
        "* 0.01"
      ]
    }
  ]
}